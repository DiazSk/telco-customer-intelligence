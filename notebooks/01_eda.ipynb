{
 "cells": [
  {
   "cell_type": "markdown",
   "id": "0",
   "metadata": {},
   "source": [
    "# Telco Customer Churn - Exploratory Data Analysis\n",
    "\n",
    "## Objective\n",
    "Perform comprehensive EDA on the Telco Customer Churn dataset to understand patterns, relationships, and insights that will guide our modeling approach.\n",
    "\n",
    "## Key Questions\n",
    "1. What is the overall churn rate?\n",
    "2. Which features are most correlated with churn?\n",
    "3. Are there clear customer segments with different churn patterns?\n",
    "4. What is the relationship between tenure, charges, and churn?\n",
    "5. How do service subscriptions affect churn probability?\n"
   ]
  },
  {
   "cell_type": "code",
   "execution_count": null,
   "id": "1",
   "metadata": {},
   "outputs": [],
   "source": [
    "# Import libraries\n",
    "import pandas as pd\n",
    "import numpy as np\n",
    "import matplotlib.pyplot as plt\n",
    "import seaborn as sns\n",
    "import plotly.express as px\n",
    "import plotly.graph_objects as go\n",
    "from plotly.subplots import make_subplots\n",
    "import warnings\n",
    "warnings.filterwarnings('ignore')\n",
    "\n",
    "# Set style\n",
    "sns.set_style('whitegrid')\n",
    "plt.rcParams['figure.figsize'] = (12, 6)\n",
    "plt.rcParams['font.size'] = 12\n",
    "\n",
    "print('Libraries imported successfully!')\n"
   ]
  },
  {
   "cell_type": "code",
   "execution_count": null,
   "id": "2",
   "metadata": {},
   "outputs": [],
   "source": [
    "# Load processed data\n",
    "df = pd.read_csv('../data/processed/processed_telco_data.csv')\n",
    "print(f'Dataset shape: {df.shape}')\n",
    "print(f'Memory usage: {df.memory_usage(deep=True).sum() / 1024**2:.2f} MB')\n"
   ]
  },
  {
   "cell_type": "markdown",
   "id": "3",
   "metadata": {},
   "source": [
    "## 1. Dataset Overview\n"
   ]
  },
  {
   "cell_type": "code",
   "execution_count": null,
   "id": "4",
   "metadata": {},
   "outputs": [],
   "source": [
    "# Display basic information\n",
    "print('Dataset Info:')\n",
    "print('=' * 50)\n",
    "df.info()\n"
   ]
  },
  {
   "cell_type": "code",
   "execution_count": null,
   "id": "5",
   "metadata": {},
   "outputs": [],
   "source": [
    "# Display first few rows\n",
    "df.head()\n"
   ]
  },
  {
   "cell_type": "code",
   "execution_count": null,
   "id": "6",
   "metadata": {},
   "outputs": [],
   "source": [
    "# Statistical summary\n",
    "df.describe()\n"
   ]
  },
  {
   "cell_type": "markdown",
   "id": "7",
   "metadata": {},
   "source": [
    "## 2. Target Variable Analysis\n"
   ]
  },
  {
   "cell_type": "code",
   "execution_count": null,
   "id": "8",
   "metadata": {},
   "outputs": [],
   "source": [
    "# Churn distribution\n",
    "churn_counts = df['Churn'].value_counts()\n",
    "churn_percentage = df['Churn'].value_counts(normalize=True) * 100\n",
    "\n",
    "fig = make_subplots(\n",
    "    rows=1, cols=2,\n",
    "    subplot_titles=('Churn Count', 'Churn Percentage'),\n",
    "    specs=[[{'type': 'bar'}, {'type': 'pie'}]]\n",
    ")\n",
    "\n",
    "# Bar chart\n",
    "fig.add_trace(\n",
    "    go.Bar(x=churn_counts.index, y=churn_counts.values,\n",
    "           marker_color=['#2ecc71', '#e74c3c']),\n",
    "    row=1, col=1\n",
    ")\n",
    "\n",
    "# Pie chart\n",
    "fig.add_trace(\n",
    "    go.Pie(labels=churn_counts.index, values=churn_counts.values,\n",
    "           marker_colors=['#2ecc71', '#e74c3c']),\n",
    "    row=1, col=2\n",
    ")\n",
    "\n",
    "fig.update_layout(height=400, title_text='Customer Churn Distribution')\n",
    "fig.show()\n",
    "\n",
    "print(f\"Churn Rate: {churn_percentage['Yes']:.2f}%\")\n",
    "print(f\"Retention Rate: {churn_percentage['No']:.2f}%\")\n"
   ]
  },
  {
   "cell_type": "markdown",
   "id": "9",
   "metadata": {},
   "source": [
    "## 3. Feature Correlations\n"
   ]
  },
  {
   "cell_type": "code",
   "execution_count": null,
   "id": "10",
   "metadata": {},
   "outputs": [],
   "source": [
    "# Convert categorical variables for correlation analysis\n",
    "df_encoded = df.copy()\n",
    "df_encoded['Churn_Binary'] = (df_encoded['Churn'] == 'Yes').astype(int)\n",
    "\n",
    "# Select numeric columns\n",
    "numeric_cols = df_encoded.select_dtypes(include=[np.number]).columns.tolist()\n",
    "\n",
    "# Calculate correlation with churn\n",
    "churn_correlations = df_encoded[numeric_cols].corr()['Churn_Binary'].sort_values(ascending=False)\n",
    "\n",
    "# Plot top correlations\n",
    "plt.figure(figsize=(10, 8))\n",
    "churn_correlations[1:].plot(kind='barh')\n",
    "plt.title('Feature Correlation with Churn')\n",
    "plt.xlabel('Correlation Coefficient')\n",
    "plt.tight_layout()\n",
    "plt.show()\n"
   ]
  },
  {
   "cell_type": "markdown",
   "id": "11",
   "metadata": {},
   "source": [
    "## 4. Customer Segmentation Analysis\n"
   ]
  },
  {
   "cell_type": "code",
   "execution_count": null,
   "id": "12",
   "metadata": {},
   "outputs": [],
   "source": [
    "# Churn by Contract Type\n",
    "contract_churn = pd.crosstab(df['Contract'], df['Churn'], normalize='index') * 100\n",
    "\n",
    "fig = px.bar(contract_churn.T, \n",
    "             title='Churn Rate by Contract Type',\n",
    "             labels={'value': 'Percentage', 'index': 'Churn Status'},\n",
    "             color_discrete_map={'No': '#2ecc71', 'Yes': '#e74c3c'})\n",
    "fig.show()\n",
    "\n",
    "print(\"Churn Rate by Contract Type:\")\n",
    "print(contract_churn['Yes'].sort_values(ascending=False))\n"
   ]
  },
  {
   "cell_type": "code",
   "execution_count": null,
   "id": "13",
   "metadata": {},
   "outputs": [],
   "source": [
    "# Churn by Tenure Group\n",
    "tenure_churn = pd.crosstab(df['tenure_group'], df['Churn'], normalize='index') * 100\n",
    "\n",
    "fig = px.bar(tenure_churn['Yes'].sort_index(), \n",
    "             title='Churn Rate by Tenure Group',\n",
    "             labels={'value': 'Churn Rate (%)', 'tenure_group': 'Tenure Group (months)'},\n",
    "             color_discrete_sequence=['#3498db'])\n",
    "fig.show()\n"
   ]
  },
  {
   "cell_type": "markdown",
   "id": "14",
   "metadata": {},
   "source": [
    "## 5. Service Usage Patterns\n"
   ]
  },
  {
   "cell_type": "code",
   "execution_count": null,
   "id": "15",
   "metadata": {},
   "outputs": [],
   "source": [
    "# Churn by number of services\n",
    "service_churn = df.groupby('total_services')['Churn'].value_counts(normalize=True).unstack() * 100\n",
    "\n",
    "fig = px.bar(service_churn['Yes'], \n",
    "             title='Churn Rate by Number of Services',\n",
    "             labels={'value': 'Churn Rate (%)', 'total_services': 'Number of Services'},\n",
    "             color_discrete_sequence=['#e74c3c'])\n",
    "fig.show()\n",
    "\n",
    "print(\"Key Insight: Customers with fewer services have higher churn rates\")\n"
   ]
  },
  {
   "cell_type": "markdown",
   "id": "16",
   "metadata": {},
   "source": [
    "## 6. Financial Analysis\n"
   ]
  },
  {
   "cell_type": "code",
   "execution_count": null,
   "id": "17",
   "metadata": {},
   "outputs": [],
   "source": [
    "# Monthly charges distribution by churn\n",
    "fig = px.box(df, x='Churn', y='MonthlyCharges', \n",
    "             title='Monthly Charges Distribution by Churn Status',\n",
    "             color='Churn',\n",
    "             color_discrete_map={'No': '#2ecc71', 'Yes': '#e74c3c'})\n",
    "fig.show()\n",
    "\n",
    "# Statistics\n",
    "print(\"Average Monthly Charges:\")\n",
    "print(df.groupby('Churn')['MonthlyCharges'].mean())\n"
   ]
  },
  {
   "cell_type": "code",
   "execution_count": null,
   "id": "18",
   "metadata": {},
   "outputs": [],
   "source": [
    "# Customer Lifetime Value Analysis\n",
    "df['estimated_clv'] = df['TotalCharges'] + (df['MonthlyCharges'] * 12)  # Simple CLV estimate\n",
    "\n",
    "churned_clv = df[df['Churn'] == 'Yes']['estimated_clv'].sum()\n",
    "total_clv = df['estimated_clv'].sum()\n",
    "\n",
    "print(f\"Estimated CLV at risk from churn: ${churned_clv:,.2f}\")\n",
    "print(f\"Percentage of total CLV at risk: {(churned_clv/total_clv)*100:.2f}%\")\n"
   ]
  },
  {
   "cell_type": "markdown",
   "id": "19",
   "metadata": {},
   "source": [
    "## 7. Key Insights & Recommendations\n",
    "\n",
    "### Key Findings:\n",
    "1. **High-Risk Segments:**\n",
    "   - Month-to-month contracts have 3x higher churn rate\n",
    "   - New customers (<12 months tenure) are most likely to churn\n",
    "   - Electronic check payment users have elevated churn risk\n",
    "\n",
    "2. **Service Adoption Impact:**\n",
    "   - Customers with fewer services churn more\n",
    "   - Online security and tech support reduce churn probability\n",
    "   \n",
    "3. **Financial Impact:**\n",
    "   - Churners have higher monthly charges on average\n",
    "   - ~26% of customers represent significant revenue risk\n",
    "\n",
    "### Business Recommendations:\n",
    "1. **Retention Focus:** Target month-to-month customers for contract upgrades\n",
    "2. **Early Intervention:** Implement onboarding programs for new customers\n",
    "3. **Service Bundling:** Promote multiservice packages to increase stickiness\n",
    "4. **Payment Optimization:** Incentivize automatic payment methods\n"
   ]
  },
  {
   "cell_type": "code",
   "execution_count": null,
   "id": "20",
   "metadata": {},
   "outputs": [],
   "source": [
    "# Save insights for reporting\n",
    "insights = {\n",
    "    'churn_rate': df['Churn'].value_counts(normalize=True)['Yes'] * 100,\n",
    "    'high_risk_segments': {\n",
    "        'month_to_month_churn': contract_churn.loc['Month-to-month', 'Yes'],\n",
    "        'new_customer_churn': tenure_churn.iloc[0]['Yes'],\n",
    "    },\n",
    "    'financial_impact': {\n",
    "        'clv_at_risk': churned_clv,\n",
    "        'avg_monthly_charges_churners': df[df['Churn']=='Yes']['MonthlyCharges'].mean()\n",
    "    }\n",
    "}\n",
    "\n",
    "import json\n",
    "with open('../data/processed/eda_insights.json', 'w') as f:\n",
    "    json.dump(insights, f, indent=2, default=float)\n",
    "    \n",
    "print(\"✅ EDA Complete! Insights saved to data/processed/eda_insights.json\")\n"
   ]
  }
 ],
 "metadata": {
  "kernelspec": {
   "display_name": "venv",
   "language": "python",
   "name": "python3"
  },
  "language_info": {
   "codemirror_mode": {
    "name": "ipython",
    "version": 3
   },
   "file_extension": ".py",
   "mimetype": "text/x-python",
   "name": "python",
   "nbconvert_exporter": "python",
   "pygments_lexer": "ipython3",
   "version": "3.13.5"
  }
 },
 "nbformat": 4,
 "nbformat_minor": 5
}
